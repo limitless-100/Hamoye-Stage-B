{
 "cells": [
  {
   "cell_type": "code",
   "execution_count": 62,
   "id": "5c322395",
   "metadata": {},
   "outputs": [
    {
     "name": "stdout",
     "output_type": "stream",
     "text": [
      "                   date  Appliances  lights         T1       RH_1         T2  \\\n",
      "0   2016-01-11 17:00:00          60      30  19.890000  47.596667  19.200000   \n",
      "1   2016-01-11 17:10:00          60      30  19.890000  46.693333  19.200000   \n",
      "2   2016-01-11 17:20:00          50      30  19.890000  46.300000  19.200000   \n",
      "3   2016-01-11 17:30:00          50      40  19.890000  46.066667  19.200000   \n",
      "4   2016-01-11 17:40:00          60      40  19.890000  46.333333  19.200000   \n",
      "5   2016-01-11 17:50:00          50      40  19.890000  46.026667  19.200000   \n",
      "6   2016-01-11 18:00:00          60      50  19.890000  45.766667  19.200000   \n",
      "7   2016-01-11 18:10:00          60      50  19.856667  45.560000  19.200000   \n",
      "8   2016-01-11 18:20:00          60      40  19.790000  45.597500  19.200000   \n",
      "9   2016-01-11 18:30:00          70      40  19.856667  46.090000  19.230000   \n",
      "10  2016-01-11 18:40:00         230      70  19.926667  45.863333  19.356667   \n",
      "\n",
      "         RH_2     T3       RH_3         T4  ...         T9   RH_9     T_out  \\\n",
      "0   44.790000  19.79  44.730000  19.000000  ...  17.033333  45.53  6.600000   \n",
      "1   44.722500  19.79  44.790000  19.000000  ...  17.066667  45.56  6.483333   \n",
      "2   44.626667  19.79  44.933333  18.926667  ...  17.000000  45.50  6.366667   \n",
      "3   44.590000  19.79  45.000000  18.890000  ...  17.000000  45.40  6.250000   \n",
      "4   44.530000  19.79  45.000000  18.890000  ...  17.000000  45.40  6.133333   \n",
      "5   44.500000  19.79  44.933333  18.890000  ...  17.000000  45.29  6.016667   \n",
      "6   44.500000  19.79  44.900000  18.890000  ...  17.000000  45.29  5.900000   \n",
      "7   44.500000  19.73  44.900000  18.890000  ...  17.000000  45.29  5.916667   \n",
      "8   44.433333  19.73  44.790000  18.890000  ...  17.000000  45.29  5.933333   \n",
      "9   44.400000  19.79  44.863333  18.890000  ...  17.000000  45.29  5.950000   \n",
      "10  44.400000  19.79  44.900000  18.890000  ...  17.000000  45.29  5.966667   \n",
      "\n",
      "    Press_mm_hg     RH_out  Windspeed  Visibility  Tdewpoint        rv1  \\\n",
      "0    733.500000  92.000000   7.000000   63.000000   5.300000  13.275433   \n",
      "1    733.600000  92.000000   6.666667   59.166667   5.200000  18.606195   \n",
      "2    733.700000  92.000000   6.333333   55.333333   5.100000  28.642668   \n",
      "3    733.800000  92.000000   6.000000   51.500000   5.000000  45.410389   \n",
      "4    733.900000  92.000000   5.666667   47.666667   4.900000  10.084097   \n",
      "5    734.000000  92.000000   5.333333   43.833333   4.800000  44.919484   \n",
      "6    734.100000  92.000000   5.000000   40.000000   4.700000  47.233763   \n",
      "7    734.166667  91.833333   5.166667   40.000000   4.683333  33.039890   \n",
      "8    734.233333  91.666667   5.333333   40.000000   4.666667  31.455702   \n",
      "9    734.300000  91.500000   5.500000   40.000000   4.650000   3.089314   \n",
      "10   734.366667  91.333333   5.666667   40.000000   4.633333  10.298729   \n",
      "\n",
      "          rv2  \n",
      "0   13.275433  \n",
      "1   18.606195  \n",
      "2   28.642668  \n",
      "3   45.410389  \n",
      "4   10.084097  \n",
      "5   44.919484  \n",
      "6   47.233763  \n",
      "7   33.039890  \n",
      "8   31.455702  \n",
      "9    3.089314  \n",
      "10  10.298729  \n",
      "\n",
      "[11 rows x 29 columns]\n"
     ]
    }
   ],
   "source": [
    "import pandas as pd \n",
    "df = pd.read_csv('C:/Users/SER/Desktop/energydata_complete.csv')\n",
    "print(df.head(11))"
   ]
  },
  {
   "cell_type": "code",
   "execution_count": 63,
   "id": "d0fdf851",
   "metadata": {},
   "outputs": [
    {
     "name": "stdout",
     "output_type": "stream",
     "text": [
      "date           0\n",
      "Appliances     0\n",
      "lights         0\n",
      "T1             0\n",
      "RH_1           0\n",
      "T2             0\n",
      "RH_2           0\n",
      "T3             0\n",
      "RH_3           0\n",
      "T4             0\n",
      "RH_4           0\n",
      "T5             0\n",
      "RH_5           0\n",
      "T6             0\n",
      "RH_6           0\n",
      "T7             0\n",
      "RH_7           0\n",
      "T8             0\n",
      "RH_8           0\n",
      "T9             0\n",
      "RH_9           0\n",
      "T_out          0\n",
      "Press_mm_hg    0\n",
      "RH_out         0\n",
      "Windspeed      0\n",
      "Visibility     0\n",
      "Tdewpoint      0\n",
      "rv1            0\n",
      "rv2            0\n",
      "dtype: int64\n"
     ]
    }
   ],
   "source": [
    "print(df.isnull().sum())"
   ]
  },
  {
   "cell_type": "markdown",
   "id": "fe13f9e2",
   "metadata": {},
   "source": [
    "# Question 12\n",
    "The value of R**2 between x = 'T2' and y = 'T6' is 0.64, correct to 2 decimal places"
   ]
  },
  {
   "cell_type": "code",
   "execution_count": 64,
   "id": "1b6f697c",
   "metadata": {},
   "outputs": [
    {
     "name": "stdout",
     "output_type": "stream",
     "text": [
      "(19735, 1)\n",
      "(19735,)\n",
      "-37.3495226384454\n",
      "[2.22506139]\n",
      "0.64\n"
     ]
    }
   ],
   "source": [
    "import numpy as np\n",
    "import pandas as pd\n",
    "a = df[['T2']]\n",
    "b = df[['T6']]\n",
    "x = np.array([[a]]).reshape((19735,1))\n",
    "y = np.array([b]).reshape(19735,)\n",
    "\n",
    "print(x.shape)\n",
    "print(y.shape)\n",
    "from sklearn.linear_model import LinearRegression\n",
    "model = LinearRegression()\n",
    "model.fit(x,y)\n",
    "\n",
    "print(model.intercept_)\n",
    "print(model.coef_)\n",
    "\n",
    "R_2 = model.score(x,y)\n",
    "print(round(R_2,2))"
   ]
  },
  {
   "cell_type": "markdown",
   "id": "ea6b3bad",
   "metadata": {},
   "source": [
    "# Question 13\n",
    "MAE is 0.05, correct to 2 decimal places"
   ]
  },
  {
   "cell_type": "code",
   "execution_count": 65,
   "id": "fc562c99",
   "metadata": {},
   "outputs": [
    {
     "name": "stdout",
     "output_type": "stream",
     "text": [
      "             T1      RH_1        T2      RH_2        T3      RH_3        T4  \\\n",
      "0      0.327350  0.566187  0.225345  0.684038  0.215188  0.746066  0.351351   \n",
      "1      0.327350  0.541326  0.225345  0.682140  0.215188  0.748871  0.351351   \n",
      "2      0.327350  0.530502  0.225345  0.679445  0.215188  0.755569  0.344745   \n",
      "3      0.327350  0.524080  0.225345  0.678414  0.215188  0.758685  0.341441   \n",
      "4      0.327350  0.531419  0.225345  0.676727  0.215188  0.758685  0.341441   \n",
      "...         ...       ...       ...       ...       ...       ...       ...   \n",
      "19730  0.926786  0.537657  0.711655  0.606309  0.830841  0.579374  0.864865   \n",
      "19731  0.919747  0.536006  0.701769  0.607836  0.825302  0.582178  0.864865   \n",
      "19732  0.919747  0.538666  0.692651  0.627198  0.818378  0.603988  0.864865   \n",
      "19733  0.919747  0.549491  0.677054  0.634717  0.805085  0.585294  0.864865   \n",
      "19734  0.919747  0.538758  0.666171  0.632902  0.799546  0.579062  0.864865   \n",
      "\n",
      "           RH_4        T5      RH_5  ...        T9      RH_9     T_out  \\\n",
      "0      0.764262  0.175506  0.381691  ...  0.223032  0.677290  0.372990   \n",
      "1      0.782437  0.175506  0.381691  ...  0.226500  0.678532  0.369239   \n",
      "2      0.778062  0.175506  0.380037  ...  0.219563  0.676049  0.365488   \n",
      "3      0.770949  0.175506  0.380037  ...  0.219563  0.671909  0.361736   \n",
      "4      0.762697  0.178691  0.380037  ...  0.219563  0.671909  0.357985   \n",
      "...         ...       ...       ...  ...       ...       ...       ...   \n",
      "19730  0.765258  0.752031  0.339590  ...  0.864724  0.729443  0.891747   \n",
      "19731  0.765258  0.754897  0.338487  ...  0.864724  0.729443  0.887460   \n",
      "19732  0.771233  0.754897  0.337585  ...  0.864724  0.729443  0.883173   \n",
      "19733  0.773794  0.752031  0.336583  ...  0.864724  0.730581  0.878885   \n",
      "19734  0.781192  0.752031  0.336583  ...  0.864724  0.731719  0.874598   \n",
      "\n",
      "       Press_mm_hg    RH_out  Windspeed  Visibility  Tdewpoint       rv1  \\\n",
      "0         0.097674  0.894737   0.500000    0.953846   0.538462  0.265449   \n",
      "1         0.100000  0.894737   0.476190    0.894872   0.533937  0.372083   \n",
      "2         0.102326  0.894737   0.452381    0.835897   0.529412  0.572848   \n",
      "3         0.104651  0.894737   0.428571    0.776923   0.524887  0.908261   \n",
      "4         0.106977  0.894737   0.404762    0.717949   0.520362  0.201611   \n",
      "...            ...       ...        ...         ...        ...       ...   \n",
      "19730     0.602326  0.416667   0.238095    0.348718   0.901961  0.861981   \n",
      "19731     0.602326  0.421053   0.250000    0.361538   0.900452  0.985726   \n",
      "19732     0.602326  0.425439   0.261905    0.374359   0.898944  0.583979   \n",
      "19733     0.602326  0.429825   0.273810    0.387179   0.897436  0.126371   \n",
      "19734     0.602326  0.434211   0.285714    0.400000   0.895928  0.682391   \n",
      "\n",
      "            rv2  \n",
      "0      0.265449  \n",
      "1      0.372083  \n",
      "2      0.572848  \n",
      "3      0.908261  \n",
      "4      0.201611  \n",
      "...         ...  \n",
      "19730  0.861981  \n",
      "19731  0.985726  \n",
      "19732  0.583979  \n",
      "19733  0.126371  \n",
      "19734  0.682391  \n",
      "\n",
      "[19735 rows x 26 columns]\n",
      "0        0.046729\n",
      "1        0.046729\n",
      "2        0.037383\n",
      "3        0.037383\n",
      "4        0.046729\n",
      "           ...   \n",
      "19730    0.084112\n",
      "19731    0.074766\n",
      "19732    0.242991\n",
      "19733    0.383178\n",
      "19734    0.392523\n",
      "Name: Appliances, Length: 19735, dtype: float64\n"
     ]
    }
   ],
   "source": [
    "import pandas as pd\n",
    "import numpy as np \n",
    "df = pd.read_csv('C:/Users/SER/Desktop/energydata_complete.csv')\n",
    "df_2dropped = df.drop(df.columns[[0,2]], axis=1)\n",
    "\n",
    "from sklearn.preprocessing import MinMaxScaler\n",
    "scaler = MinMaxScaler()\n",
    "df_2dropped_normalized = pd.DataFrame(scaler.fit_transform(df_2dropped), columns=df_2dropped.columns)\n",
    "features_df = df_2dropped_normalized.drop(columns=['Appliances'])\n",
    "print(features_df)\n",
    "target_df = df_2dropped_normalized['Appliances']\n",
    "print(target_df)\n"
   ]
  },
  {
   "cell_type": "code",
   "execution_count": 66,
   "id": "0283a9aa",
   "metadata": {},
   "outputs": [
    {
     "name": "stdout",
     "output_type": "stream",
     "text": [
      "LinearRegression()\n",
      "[-0.00328105  0.5535466  -0.23617792 -0.45669795  0.29062714  0.09604827\n",
      "  0.028981    0.02638578 -0.01565684  0.01600579  0.23642491  0.03804865\n",
      "  0.01031878 -0.04461364  0.10199505 -0.15759548 -0.18994077 -0.03980032\n",
      " -0.32185967  0.00683933 -0.07767065  0.02918313  0.01230661  0.11775773\n",
      "  0.0007701   0.0007701 ]\n"
     ]
    }
   ],
   "source": [
    "from sklearn.model_selection import train_test_split\n",
    "x_train, x_test, y_train, y_test = train_test_split(features_df, target_df, test_size =0.3, random_state=42)\n",
    "\n",
    "from sklearn.linear_model import LinearRegression\n",
    "linear_model = LinearRegression()\n",
    "Model = linear_model.fit(x_train, y_train)\n",
    "print(Model)\n",
    "print(Model.coef_)"
   ]
  },
  {
   "cell_type": "code",
   "execution_count": 67,
   "id": "9c44a3e3",
   "metadata": {},
   "outputs": [
    {
     "name": "stdout",
     "output_type": "stream",
     "text": [
      "[0.03322207 0.24411599 0.03400024 ... 0.06844707 0.10032325 0.05722198]\n",
      "8980     0.028037\n",
      "2754     0.074766\n",
      "9132     0.037383\n",
      "14359    0.037383\n",
      "8875     0.056075\n",
      "           ...   \n",
      "831      0.224299\n",
      "10993    0.046729\n",
      "11761    0.037383\n",
      "12364    0.093458\n",
      "11863    0.037383\n",
      "Name: Appliances, Length: 5921, dtype: float64\n",
      "0.05013362397742957\n"
     ]
    },
    {
     "data": {
      "text/plain": [
       "0.05"
      ]
     },
     "execution_count": 67,
     "metadata": {},
     "output_type": "execute_result"
    }
   ],
   "source": [
    "predicted_values = Model.predict(x_test)\n",
    "print(predicted_values)\n",
    "print(y_test)\n",
    "from sklearn.metrics import mean_absolute_error\n",
    "mae = mean_absolute_error(y_test, predicted_values)\n",
    "print(mae)\n",
    "round(mae, 2)"
   ]
  },
  {
   "cell_type": "markdown",
   "id": "506d72b4",
   "metadata": {},
   "source": [
    "# Question 14\n",
    "Residual Sum of Squares equals 42.33, correct to 2 decimal places"
   ]
  },
  {
   "cell_type": "code",
   "execution_count": 70,
   "id": "af71f808",
   "metadata": {},
   "outputs": [
    {
     "name": "stdout",
     "output_type": "stream",
     "text": [
      "42.33443740799913\n"
     ]
    },
    {
     "data": {
      "text/plain": [
       "42.33"
      ]
     },
     "execution_count": 70,
     "metadata": {},
     "output_type": "execute_result"
    }
   ],
   "source": [
    "import numpy as np \n",
    "rss = np.sum(np.square(y_test - predicted_values))\n",
    "print(rss)\n",
    "round(rss, 2)"
   ]
  },
  {
   "cell_type": "markdown",
   "id": "a06bb4ca",
   "metadata": {},
   "source": [
    "# Question 15\n",
    "The root mean squared error equals 0.085"
   ]
  },
  {
   "cell_type": "code",
   "execution_count": 71,
   "id": "d04461bb",
   "metadata": {},
   "outputs": [
    {
     "data": {
      "text/plain": [
       "0.085"
      ]
     },
     "execution_count": 71,
     "metadata": {},
     "output_type": "execute_result"
    }
   ],
   "source": [
    "from sklearn.metrics import mean_squared_error\n",
    "rmse = np.sqrt(mean_squared_error(y_test, predicted_values))\n",
    "round(rmse, 3)"
   ]
  },
  {
   "cell_type": "markdown",
   "id": "75532471",
   "metadata": {},
   "source": [
    "# Question 16\n",
    "Coefficient of Determination equals 0.21, correct to 2 decimal places"
   ]
  },
  {
   "cell_type": "code",
   "execution_count": 72,
   "id": "113e3b0b",
   "metadata": {},
   "outputs": [
    {
     "data": {
      "text/plain": [
       "0.21"
      ]
     },
     "execution_count": 72,
     "metadata": {},
     "output_type": "execute_result"
    }
   ],
   "source": [
    "from sklearn.metrics import r2_score\n",
    "r2_score = r2_score(y_test, predicted_values)\n",
    "round(r2_score, 2)"
   ]
  },
  {
   "cell_type": "markdown",
   "id": "9c0263e2",
   "metadata": {},
   "source": [
    "# Question 17\n",
    "The lowest and highest weights respectively are RH2 and RH1"
   ]
  },
  {
   "cell_type": "code",
   "execution_count": 74,
   "id": "fdb3e7b3",
   "metadata": {},
   "outputs": [
    {
     "data": {
      "text/plain": [
       "[('T1', -0.003281051194345055),\n",
       " ('RH_1', 0.5535465998386391),\n",
       " ('T2', -0.2361779186949115),\n",
       " ('RH_2', -0.4566979483385004),\n",
       " ('T3', 0.2906271374970355),\n",
       " ('RH_3', 0.09604827330604838),\n",
       " ('T4', 0.02898099855444105),\n",
       " ('RH_4', 0.02638577689180251),\n",
       " ('T5', -0.0156568427786296),\n",
       " ('RH_5', 0.016005788428133765),\n",
       " ('T6', 0.23642490886650888),\n",
       " ('RH_6', 0.03804865205894996),\n",
       " ('T7', 0.01031877638794388),\n",
       " ('RH_7', -0.04461363736108871),\n",
       " ('T8', 0.10199504524367489),\n",
       " ('RH_8', -0.15759547759013126),\n",
       " ('T9', -0.18994077300830772),\n",
       " ('RH_9', -0.039800316616821436),\n",
       " ('T_out', -0.32185966813008576),\n",
       " ('Press_mm_hg', 0.0068393263827656375),\n",
       " ('RH_out', -0.077670653181667),\n",
       " ('Windspeed', 0.029183129198430278),\n",
       " ('Visibility', 0.012306608976810816),\n",
       " ('Tdewpoint', 0.1177577348964435),\n",
       " ('rv1', 0.000770098133177053),\n",
       " ('rv2', 0.000770098133177053)]"
      ]
     },
     "execution_count": 74,
     "metadata": {},
     "output_type": "execute_result"
    }
   ],
   "source": [
    "list(zip(features_df, Model.coef_))"
   ]
  },
  {
   "cell_type": "markdown",
   "id": "cbc4b680",
   "metadata": {},
   "source": [
    "# Question 18"
   ]
  },
  {
   "cell_type": "code",
   "execution_count": 75,
   "id": "34f092d7",
   "metadata": {},
   "outputs": [
    {
     "data": {
      "text/plain": [
       "Ridge(alpha=0.001)"
      ]
     },
     "execution_count": 75,
     "metadata": {},
     "output_type": "execute_result"
    }
   ],
   "source": [
    "from sklearn.linear_model import Ridge\n",
    "ridge_reg = Ridge(alpha=0.001)\n",
    "ridge_reg.fit(x_train,y_train)"
   ]
  },
  {
   "cell_type": "code",
   "execution_count": 76,
   "id": "48f7d915",
   "metadata": {},
   "outputs": [
    {
     "data": {
      "text/plain": [
       "0.085"
      ]
     },
     "execution_count": 76,
     "metadata": {},
     "output_type": "execute_result"
    }
   ],
   "source": [
    "from sklearn.metrics import mean_squared_error\n",
    "rmse = np.sqrt(mean_squared_error(y_test, predicted_values))\n",
    "round(rmse, 3)"
   ]
  },
  {
   "cell_type": "code",
   "execution_count": null,
   "id": "786199b2",
   "metadata": {},
   "outputs": [],
   "source": []
  }
 ],
 "metadata": {
  "kernelspec": {
   "display_name": "Python 3 (ipykernel)",
   "language": "python",
   "name": "python3"
  },
  "language_info": {
   "codemirror_mode": {
    "name": "ipython",
    "version": 3
   },
   "file_extension": ".py",
   "mimetype": "text/x-python",
   "name": "python",
   "nbconvert_exporter": "python",
   "pygments_lexer": "ipython3",
   "version": "3.9.7"
  }
 },
 "nbformat": 4,
 "nbformat_minor": 5
}
